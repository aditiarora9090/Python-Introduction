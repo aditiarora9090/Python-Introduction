{
 "cells": [
  {
   "cell_type": "markdown",
   "id": "10de4649",
   "metadata": {},
   "source": [
    "## Python Practice"
   ]
  },
  {
   "cell_type": "markdown",
   "id": "4f65f323",
   "metadata": {},
   "source": [
    "### Strings"
   ]
  },
  {
   "cell_type": "markdown",
   "id": "e958f7b3",
   "metadata": {},
   "source": [
    "### Question 1\n",
    "Get the first character of the string txt."
   ]
  },
  {
   "cell_type": "code",
   "execution_count": 26,
   "id": "0eb366d1",
   "metadata": {},
   "outputs": [],
   "source": [
    "txt = \"Hello World\""
   ]
  },
  {
   "cell_type": "code",
   "execution_count": 28,
   "id": "15c70f50",
   "metadata": {},
   "outputs": [
    {
     "data": {
      "text/plain": [
       "'H'"
      ]
     },
     "execution_count": 28,
     "metadata": {},
     "output_type": "execute_result"
    }
   ],
   "source": [
    "txt[0]"
   ]
  },
  {
   "cell_type": "markdown",
   "id": "f4b6be9d",
   "metadata": {},
   "source": [
    "### Question 2\n",
    "Get the second last character of the given string txt."
   ]
  },
  {
   "cell_type": "code",
   "execution_count": 29,
   "id": "3c1aa9c8",
   "metadata": {},
   "outputs": [],
   "source": [
    "txt = \"Hello World\""
   ]
  },
  {
   "cell_type": "code",
   "execution_count": 30,
   "id": "1974f51a",
   "metadata": {},
   "outputs": [
    {
     "data": {
      "text/plain": [
       "'l'"
      ]
     },
     "execution_count": 30,
     "metadata": {},
     "output_type": "execute_result"
    }
   ],
   "source": [
    "txt[-2]"
   ]
  },
  {
   "cell_type": "markdown",
   "id": "39554dcb",
   "metadata": {},
   "source": [
    "### Question 3\n",
    "Get the characters from index 2 to index 4 (ll)."
   ]
  },
  {
   "cell_type": "code",
   "execution_count": 31,
   "id": "2968fc75",
   "metadata": {},
   "outputs": [],
   "source": [
    "txt = \"Hello World\""
   ]
  },
  {
   "cell_type": "code",
   "execution_count": 32,
   "id": "b3ee34e7",
   "metadata": {},
   "outputs": [
    {
     "data": {
      "text/plain": [
       "'ll'"
      ]
     },
     "execution_count": 32,
     "metadata": {},
     "output_type": "execute_result"
    }
   ],
   "source": [
    "txt[2:4]"
   ]
  },
  {
   "cell_type": "markdown",
   "id": "b10a7638",
   "metadata": {},
   "source": [
    "### Question 4\n",
    "Return the string without any whitespace at the beginning or the end."
   ]
  },
  {
   "cell_type": "code",
   "execution_count": 33,
   "id": "37b74688",
   "metadata": {},
   "outputs": [],
   "source": [
    "txt = \" Hello World \""
   ]
  },
  {
   "cell_type": "code",
   "execution_count": 35,
   "id": "9175a73a",
   "metadata": {},
   "outputs": [
    {
     "data": {
      "text/plain": [
       "'Hello World'"
      ]
     },
     "execution_count": 35,
     "metadata": {},
     "output_type": "execute_result"
    }
   ],
   "source": [
    "txt = \"Hello World\"\n",
    "txt"
   ]
  },
  {
   "cell_type": "markdown",
   "id": "f7ef13e9",
   "metadata": {},
   "source": [
    "### Question 5\n",
    "Convert the value of txt to lower case."
   ]
  },
  {
   "cell_type": "code",
   "execution_count": 36,
   "id": "d6a01a25",
   "metadata": {},
   "outputs": [],
   "source": [
    "txt = \" Hello World \""
   ]
  },
  {
   "cell_type": "code",
   "execution_count": 37,
   "id": "fa6a3e77",
   "metadata": {},
   "outputs": [
    {
     "data": {
      "text/plain": [
       "' hello world '"
      ]
     },
     "execution_count": 37,
     "metadata": {},
     "output_type": "execute_result"
    }
   ],
   "source": [
    "txt.lower()"
   ]
  },
  {
   "cell_type": "markdown",
   "id": "b3d11cda",
   "metadata": {},
   "source": [
    "### Question 6\n",
    "Count how many times \"l\" appeared in the text"
   ]
  },
  {
   "cell_type": "code",
   "execution_count": 38,
   "id": "cc13c68d",
   "metadata": {},
   "outputs": [],
   "source": [
    "txt = \"hello world\""
   ]
  },
  {
   "cell_type": "code",
   "execution_count": 39,
   "id": "fa24f1e0",
   "metadata": {},
   "outputs": [
    {
     "data": {
      "text/plain": [
       "'hello world'"
      ]
     },
     "execution_count": 39,
     "metadata": {},
     "output_type": "execute_result"
    }
   ],
   "source": [
    "txt"
   ]
  },
  {
   "cell_type": "code",
   "execution_count": 40,
   "id": "968b7f9f",
   "metadata": {},
   "outputs": [
    {
     "data": {
      "text/plain": [
       "3"
      ]
     },
     "execution_count": 40,
     "metadata": {},
     "output_type": "execute_result"
    }
   ],
   "source": [
    "txt.count('l')"
   ]
  },
  {
   "cell_type": "markdown",
   "id": "3cf48798",
   "metadata": {},
   "source": [
    "### Question 7\n",
    "Replace the character H with a J."
   ]
  },
  {
   "cell_type": "code",
   "execution_count": 41,
   "id": "90dd70ae",
   "metadata": {},
   "outputs": [
    {
     "data": {
      "text/plain": [
       "'Hello World'"
      ]
     },
     "execution_count": 41,
     "metadata": {},
     "output_type": "execute_result"
    }
   ],
   "source": [
    "txt = \"Hello World\"\n",
    "txt"
   ]
  },
  {
   "cell_type": "code",
   "execution_count": 42,
   "id": "b4c9749e",
   "metadata": {},
   "outputs": [
    {
     "data": {
      "text/plain": [
       "'Jello World'"
      ]
     },
     "execution_count": 42,
     "metadata": {},
     "output_type": "execute_result"
    }
   ],
   "source": [
    "txt.replace('H','J')"
   ]
  },
  {
   "cell_type": "markdown",
   "id": "2b83dee8",
   "metadata": {},
   "source": [
    "#### Answer"
   ]
  },
  {
   "cell_type": "markdown",
   "id": "98f3a68c",
   "metadata": {},
   "source": [
    "-----"
   ]
  },
  {
   "cell_type": "markdown",
   "id": "cfe9f6ae",
   "metadata": {},
   "source": [
    "### Additional Question\n",
    "Replace 'the' & 'The' & 'THE', with 'a'"
   ]
  },
  {
   "cell_type": "code",
   "execution_count": 44,
   "id": "a14b0182",
   "metadata": {},
   "outputs": [],
   "source": [
    "big_text = \"The Second Punic War (218–201 BC) was the second of three wars fought between Carthage and Rome, the two main powers of the western Mediterranean in the 3rd century BC. For 17 years the two states struggled for supremacy. After immense materiel and human losses on both sides the Carthaginians were defeated. Macedonia, Syracuse and several Numidian kingdoms were drawn into the fighting, and Iberian and Gallic forces fought on both sides. There were three main military theatres during the war: Italy, where Hannibal defeated the Roman legions repeatedly, with occasional subsidiary campaigns on the islands of Sicily and Sardinia and in Greece; Iberia, where Hasdrubal, a younger brother of Hannibal, defended the Carthaginian colonial cities with mixed success before moving into Italy; and North Africa, where Rome finally won the war. \""
   ]
  },
  {
   "cell_type": "code",
   "execution_count": 45,
   "id": "9313e73f",
   "metadata": {},
   "outputs": [
    {
     "data": {
      "text/plain": [
       "'The Second Punic War (218–201 BC) was the second of three wars fought between Carthage and Rome, the two main powers of the western Mediterranean in the 3rd century BC. For 17 years the two states struggled for supremacy. After immense materiel and human losses on both sides the Carthaginians were defeated. Macedonia, Syracuse and several Numidian kingdoms were drawn into the fighting, and Iberian and Gallic forces fought on both sides. There were three main military theatres during the war: Italy, where Hannibal defeated the Roman legions repeatedly, with occasional subsidiary campaigns on the islands of Sicily and Sardinia and in Greece; Iberia, where Hasdrubal, a younger brother of Hannibal, defended the Carthaginian colonial cities with mixed success before moving into Italy; and North Africa, where Rome finally won the war. '"
      ]
     },
     "execution_count": 45,
     "metadata": {},
     "output_type": "execute_result"
    }
   ],
   "source": [
    "big_text"
   ]
  },
  {
   "cell_type": "code",
   "execution_count": 46,
   "id": "081f2770",
   "metadata": {},
   "outputs": [
    {
     "data": {
      "text/plain": [
       "'a Second Punic War (218–201 BC) was a second of three wars fought between Carthage and Rome, a two main powers of a western Mediterranean in a 3rd century BC. For 17 years a two states struggled for supremacy. After immense materiel and human losses on both sides a Carthaginians were defeated. Macedonia, Syracuse and several Numidian kingdoms were drawn into a fighting, and Iberian and Gallic forces fought on both sides. are were three main military aatres during a war: Italy, where Hannibal defeated a Roman legions repeatedly, with occasional subsidiary campaigns on a islands of Sicily and Sardinia and in Greece; Iberia, where Hasdrubal, a younger broar of Hannibal, defended a Carthaginian colonial cities with mixed success before moving into Italy; and North Africa, where Rome finally won a war. '"
      ]
     },
     "execution_count": 46,
     "metadata": {},
     "output_type": "execute_result"
    }
   ],
   "source": [
    "big_text.replace('the', 'a').replace('The','a').replace('THE','a')"
   ]
  },
  {
   "cell_type": "markdown",
   "id": "c412c0c4",
   "metadata": {},
   "source": [
    "### Question 7\n",
    "Reverse the string"
   ]
  },
  {
   "cell_type": "code",
   "execution_count": 47,
   "id": "dcc8f746",
   "metadata": {},
   "outputs": [],
   "source": [
    "txt = \"Hello World\""
   ]
  },
  {
   "cell_type": "code",
   "execution_count": 49,
   "id": "cad90938",
   "metadata": {},
   "outputs": [
    {
     "data": {
      "text/plain": [
       "'dlroW olleH'"
      ]
     },
     "execution_count": 49,
     "metadata": {},
     "output_type": "execute_result"
    }
   ],
   "source": [
    "txt = \"Hello World\"[::-1]\n",
    "txt"
   ]
  },
  {
   "cell_type": "markdown",
   "id": "c6fe0496",
   "metadata": {},
   "source": [
    "#### Answer"
   ]
  },
  {
   "cell_type": "markdown",
   "id": "bf1f91c7",
   "metadata": {},
   "source": [
    "### Question 8\n",
    "Add 2 strings with space in between, create and save in a new variable string_3"
   ]
  },
  {
   "cell_type": "code",
   "execution_count": 50,
   "id": "03f07279",
   "metadata": {},
   "outputs": [],
   "source": [
    "string_1 = \"Hello\"\n",
    "string_2 = \"World\""
   ]
  },
  {
   "cell_type": "code",
   "execution_count": 51,
   "id": "8ebf0336",
   "metadata": {},
   "outputs": [],
   "source": [
    "string_3 = string_1+ ' ' +string_2"
   ]
  },
  {
   "cell_type": "code",
   "execution_count": 52,
   "id": "2b2d7991",
   "metadata": {},
   "outputs": [
    {
     "data": {
      "text/plain": [
       "'Hello World'"
      ]
     },
     "execution_count": 52,
     "metadata": {},
     "output_type": "execute_result"
    }
   ],
   "source": [
    "string_3"
   ]
  }
 ],
 "metadata": {
  "kernelspec": {
   "display_name": "Python 3 (ipykernel)",
   "language": "python",
   "name": "python3"
  },
  "language_info": {
   "codemirror_mode": {
    "name": "ipython",
    "version": 3
   },
   "file_extension": ".py",
   "mimetype": "text/x-python",
   "name": "python",
   "nbconvert_exporter": "python",
   "pygments_lexer": "ipython3",
   "version": "3.9.16"
  }
 },
 "nbformat": 4,
 "nbformat_minor": 5
}
